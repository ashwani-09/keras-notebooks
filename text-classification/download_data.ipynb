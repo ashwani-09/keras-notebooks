{
 "cells": [
  {
   "cell_type": "markdown",
   "source": "# Download data from BigQuery tables",
   "metadata": {
    "cell_id": "c1a960d1824f4ce8a3959a1c7e76821e",
    "tags": [],
    "is_collapsed": false,
    "formattedRanges": [],
    "deepnote_cell_type": "text-cell-h1"
   }
  },
  {
   "cell_type": "code",
   "metadata": {
    "tags": [],
    "cell_id": "1f6d7ba2-37ad-4af5-930b-70074d817f49",
    "deepnote_to_be_reexecuted": false,
    "source_hash": "82adf1ca",
    "execution_start": 1656145325605,
    "execution_millis": 0,
    "deepnote_cell_type": "code",
    "deepnote_cell_height": 279
   },
   "source": "# change these to try this notebook out\nBUCKET = 'cloud-training-demos'\nPROJECT = 'smooth-splicer-354315'\nREGION = 'us-central1'\n\nimport os\nos.environ['BUCKET'] = BUCKET\nos.environ['PROJECT'] = PROJECT\nos.environ['REGION'] = REGION\n\nimport sys\nsys.path.append('./utils')",
   "outputs": [],
   "execution_count": null
  },
  {
   "cell_type": "code",
   "source": "from common_functions import read_bigquery",
   "metadata": {
    "cell_id": "8f1a9de0f91c47599b5e829d72abf74c",
    "tags": [],
    "deepnote_to_be_reexecuted": false,
    "source_hash": "1f3bee69",
    "execution_start": 1656145325606,
    "execution_millis": 303,
    "deepnote_cell_type": "code",
    "deepnote_cell_height": 81
   },
   "outputs": [],
   "execution_count": null
  },
  {
   "cell_type": "code",
   "source": "# All stories from Github, New York Times and TechCrunch\nquery = \"\"\"\n    SELECT source, LOWER(REGEXP_REPLACE(title, '[^a-zA-Z0-9 $.-]', ' ')) AS title FROM\n    (SELECT\n        ARRAY_REVERSE(SPLIT(REGEXP_EXTRACT(url, '.*://(.[^/]+)/'), '.'))[OFFSET(1)] AS source,\n        title\n    FROM\n        `bigquery-public-data.hacker_news.stories`\n    WHERE\n        REGEXP_CONTAINS(REGEXP_EXTRACT(url, '.*://(.[^/]+)/'), '.com$')\n        AND LENGTH(title) > 10\n    )\n    WHERE (source = 'github' OR source = 'nytimes' OR source = 'techcrunch')\n    \"\"\"",
   "metadata": {
    "cell_id": "2af4a1c3bde3477cbaf19a7d0bdaa77f",
    "tags": [],
    "deepnote_to_be_reexecuted": false,
    "source_hash": "dfe55ffe",
    "execution_start": 1656145325911,
    "execution_millis": 0,
    "owner_user_id": "d60818c3-2f78-44df-b56d-5e4dfd1c7847",
    "deepnote_cell_type": "code",
    "deepnote_cell_height": 315
   },
   "outputs": [],
   "execution_count": null
  },
  {
   "cell_type": "code",
   "source": "read_bigquery(query + \" LIMIT 5\").head()",
   "metadata": {
    "cell_id": "05fabfce85eb4d79b7e1817a28ac2a94",
    "tags": [],
    "deepnote_to_be_reexecuted": false,
    "source_hash": "8574c54d",
    "execution_start": 1656145325957,
    "execution_millis": 3297,
    "deepnote_cell_type": "code",
    "deepnote_cell_height": 395
   },
   "outputs": [
    {
     "output_type": "execute_result",
     "execution_count": 4,
     "data": {
      "application/vnd.deepnote.dataframe.v3+json": {
       "column_count": 2,
       "row_count": 5,
       "columns": [
        {
         "name": "source",
         "dtype": "object",
         "stats": {
          "unique_count": 2,
          "nan_count": 0,
          "categories": [
           {
            "name": "github",
            "count": 4
           },
           {
            "name": "techcrunch",
            "count": 1
           }
          ]
         }
        },
        {
         "name": "title",
         "dtype": "object",
         "stats": {
          "unique_count": 5,
          "nan_count": 0,
          "categories": [
           {
            "name": "django outbox",
            "count": 1
           },
           {
            "name": "webscrapper using node.js   deferred   cheerio in less than 100 lines",
            "count": 1
           },
           {
            "name": "3 others",
            "count": 3
           }
          ]
         }
        },
        {
         "name": "_deepnote_index_column",
         "dtype": "int64"
        }
       ],
       "rows": [
        {
         "source": "github",
         "title": "django outbox",
         "_deepnote_index_column": 0
        },
        {
         "source": "github",
         "title": "webscrapper using node.js   deferred   cheerio in less than 100 lines",
         "_deepnote_index_column": 1
        },
        {
         "source": "techcrunch",
         "title": "flashnotes picks up another $3.6m",
         "_deepnote_index_column": 2
        },
        {
         "source": "github",
         "title": "a git user s guide to svn  because at least 10 of us have that problem ",
         "_deepnote_index_column": 3
        },
        {
         "source": "github",
         "title": "show hn  cmake module to take care of git submodules",
         "_deepnote_index_column": 4
        }
       ]
      },
      "text/plain": "       source                                              title\n0      github                                      django outbox\n1      github  webscrapper using node.js   deferred   cheerio...\n2  techcrunch                  flashnotes picks up another $3.6m\n3      github  a git user s guide to svn  because at least 10...\n4      github  show hn  cmake module to take care of git subm...",
      "text/html": "<div>\n<style scoped>\n    .dataframe tbody tr th:only-of-type {\n        vertical-align: middle;\n    }\n\n    .dataframe tbody tr th {\n        vertical-align: top;\n    }\n\n    .dataframe thead th {\n        text-align: right;\n    }\n</style>\n<table border=\"1\" class=\"dataframe\">\n  <thead>\n    <tr style=\"text-align: right;\">\n      <th></th>\n      <th>source</th>\n      <th>title</th>\n    </tr>\n  </thead>\n  <tbody>\n    <tr>\n      <th>0</th>\n      <td>github</td>\n      <td>django outbox</td>\n    </tr>\n    <tr>\n      <th>1</th>\n      <td>github</td>\n      <td>webscrapper using node.js   deferred   cheerio...</td>\n    </tr>\n    <tr>\n      <th>2</th>\n      <td>techcrunch</td>\n      <td>flashnotes picks up another $3.6m</td>\n    </tr>\n    <tr>\n      <th>3</th>\n      <td>github</td>\n      <td>a git user s guide to svn  because at least 10...</td>\n    </tr>\n    <tr>\n      <th>4</th>\n      <td>github</td>\n      <td>show hn  cmake module to take care of git subm...</td>\n    </tr>\n  </tbody>\n</table>\n</div>"
     },
     "metadata": {}
    }
   ],
   "execution_count": null
  },
  {
   "cell_type": "markdown",
   "source": "A simple, repeatable way to do this is to use the hash of a well-distributed column in our data (See https://www.oreilly.com/learning/repeatable-sampling-of-data-sets-in-bigquery-for-machine-learning).",
   "metadata": {
    "cell_id": "1a1c579c4cc84b639a3b8b3e0e5a172b",
    "tags": [],
    "deepnote_cell_type": "markdown",
    "deepnote_cell_height": 74.78125
   }
  },
  {
   "cell_type": "code",
   "source": "# below query would output almost 75% rows to traindf and rest 25% to evaldf\ntraindf = read_bigquery(query + \" AND ABS(MOD(FARM_FINGERPRINT(title), 4)) > 0\")\nevaldf  = read_bigquery(query + \" AND ABS(MOD(FARM_FINGERPRINT(title), 4)) = 0\")",
   "metadata": {
    "cell_id": "530b4c7bb82443feafda72009dc62b96",
    "tags": [],
    "deepnote_to_be_reexecuted": false,
    "source_hash": "99ed73cb",
    "execution_start": 1656145328743,
    "execution_millis": 14422,
    "deepnote_cell_type": "code",
    "deepnote_cell_height": 117
   },
   "outputs": [],
   "execution_count": null
  },
  {
   "cell_type": "code",
   "source": "traindf['source'].value_counts()",
   "metadata": {
    "cell_id": "f54dcd5d47934606842c8f024c3d9532",
    "tags": [],
    "deepnote_to_be_reexecuted": false,
    "source_hash": "e565bc2d",
    "execution_start": 1656145343175,
    "execution_millis": 399,
    "deepnote_cell_type": "code",
    "deepnote_cell_height": 175.75,
    "deepnote_output_heights": [
     78.75
    ]
   },
   "outputs": [
    {
     "output_type": "execute_result",
     "execution_count": 6,
     "data": {
      "text/plain": "github        27445\ntechcrunch    23131\nnytimes       21586\nName: source, dtype: int64"
     },
     "metadata": {}
    }
   ],
   "execution_count": null
  },
  {
   "cell_type": "code",
   "source": "evaldf['source'].value_counts()",
   "metadata": {
    "cell_id": "6e33bde2c1864c0cbfd75dc9265a1c77",
    "tags": [],
    "deepnote_to_be_reexecuted": false,
    "source_hash": "5cfe021d",
    "execution_start": 1656145343185,
    "execution_millis": 395,
    "deepnote_cell_type": "code",
    "deepnote_cell_height": 175.75,
    "deepnote_output_heights": [
     78.75
    ]
   },
   "outputs": [
    {
     "output_type": "execute_result",
     "execution_count": 7,
     "data": {
      "text/plain": "github        9080\ntechcrunch    7760\nnytimes       7201\nName: source, dtype: int64"
     },
     "metadata": {}
    }
   ],
   "execution_count": null
  },
  {
   "cell_type": "code",
   "source": "traindf.to_csv('data/hackernews-train.csv', index=False)\nevaldf.to_csv('data/hackernews-eval.csv', index=False)",
   "metadata": {
    "cell_id": "408ee982712d4616bad4a309c26c1790",
    "tags": [],
    "deepnote_to_be_reexecuted": false,
    "source_hash": "f2e3364",
    "execution_start": 1656145343189,
    "execution_millis": 188,
    "deepnote_cell_type": "code",
    "deepnote_cell_height": 99
   },
   "outputs": [],
   "execution_count": null
  },
  {
   "cell_type": "markdown",
   "source": "<a style='text-decoration:none;line-height:16px;display:flex;color:#5B5B62;padding:10px;justify-content:end;' href='https://deepnote.com?utm_source=created-in-deepnote-cell&projectId=46e3e238-14db-4736-bba3-428176481d68' target=\"_blank\">\n<img alt='Created in deepnote.com' style='display:inline;max-height:16px;margin:0px;margin-right:7.5px;' src='data:image/svg+xml;base64,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' > </img>\nCreated in <span style='font-weight:600;margin-left:4px;'>Deepnote</span></a>",
   "metadata": {
    "tags": [],
    "created_in_deepnote_cell": true,
    "deepnote_cell_type": "markdown"
   }
  }
 ],
 "nbformat": 4,
 "nbformat_minor": 2,
 "metadata": {
  "orig_nbformat": 2,
  "deepnote": {},
  "deepnote_notebook_id": "d2aa3495-3d94-4642-9953-d6c254fdd34f",
  "deepnote_execution_queue": []
 }
}