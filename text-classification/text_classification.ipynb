{
 "cells": [
  {
   "cell_type": "markdown",
   "source": "# Text Classification on Hacker News Data",
   "metadata": {
    "formattedRanges": [],
    "cell_id": "6c75a89b688f4c8886d99e76aa1766b8",
    "tags": [],
    "is_collapsed": false,
    "deepnote_cell_type": "text-cell-h1"
   }
  },
  {
   "cell_type": "markdown",
   "source": "Hacker News is a social news website focusing on computer science and entrepreneurship. It is run by Paul Graham's investment fund and startup incubator, Y Combinator. In general, content that can be submitted is defined as \"anything that gratifies one's intellectual curiosity\".  \n\nThis dataset contains all stories and comments from Hacker News from its launch in 2006. Each story contains a story id, the author that made the post, when it was written, and the number of points the story received.  \n  \nThe dataset is publicly available on Google Cloud BigQuery in `bigquery-public-data` project. **We will look at the titles of articles and figure out whether the article came from the New York Times, TechCrunch or GitHub.**",
   "metadata": {
    "cell_id": "cfaf8ea353564148b0176d0f012664f4",
    "tags": [],
    "deepnote_cell_type": "markdown",
    "deepnote_cell_height": 192.34375
   }
  },
  {
   "cell_type": "markdown",
   "source": "## Data Preparation",
   "metadata": {
    "formattedRanges": [],
    "cell_id": "dc1fcfe02cc846eb83a8d3743a4637c7",
    "tags": [],
    "is_collapsed": false,
    "deepnote_cell_type": "text-cell-h2"
   }
  },
  {
   "cell_type": "code",
   "metadata": {
    "cell_id": "df4553312140427db114f4440c3e31dc",
    "tags": [],
    "deepnote_to_be_reexecuted": false,
    "source_hash": "aa4ffc06",
    "execution_start": 1656306945290,
    "execution_millis": 8616,
    "deepnote_cell_type": "code",
    "deepnote_cell_height": 309.125
   },
   "source": "import json\nimport numpy as np\nimport pandas as pd\nimport tensorflow as tf\nfrom tensorflow import keras\n\nimport sys\nsys.path.append('./utils')\n\nfrom common_functions import plot_curves\n\nprint(tf.__version__)",
   "execution_count": null,
   "outputs": [
    {
     "name": "stdout",
     "text": "2.9.1\n",
     "output_type": "stream"
    }
   ]
  },
  {
   "cell_type": "code",
   "metadata": {
    "cell_id": "380117e8ee404e14835973294d10a098",
    "tags": [],
    "deepnote_to_be_reexecuted": false,
    "source_hash": "9b7e10df",
    "execution_start": 1656306953307,
    "execution_millis": 612,
    "deepnote_cell_type": "code",
    "deepnote_cell_height": 165.125
   },
   "source": "traindf = pd.read_csv('data/hackernews-train.csv')\nevaldf = pd.read_csv('data/hackernews-eval.csv')\n\nprint(traindf.shape, evaldf.shape)",
   "execution_count": null,
   "outputs": [
    {
     "name": "stdout",
     "text": "(72162, 2) (24041, 2)\n",
     "output_type": "stream"
    }
   ]
  },
  {
   "cell_type": "code",
   "metadata": {
    "cell_id": "464a614f85a64fffb819e60aa754d054",
    "tags": [],
    "deepnote_to_be_reexecuted": false,
    "source_hash": "4c7ac6dc",
    "execution_start": 1656306953412,
    "execution_millis": 509,
    "deepnote_cell_type": "code",
    "deepnote_cell_height": 167.53125
   },
   "source": "print(traindf['source'].unique())\nprint(traindf.head(1))",
   "execution_count": null,
   "outputs": [
    {
     "name": "stdout",
     "text": "['github' 'nytimes' 'techcrunch']\n   source                                            title\n0  github  this guy just found out how to bypass adblocker\n",
     "output_type": "stream"
    }
   ]
  },
  {
   "cell_type": "code",
   "metadata": {
    "cell_id": "26e883718b0c44838cb314fad905f62a",
    "tags": [],
    "deepnote_to_be_reexecuted": false,
    "source_hash": "c4adbc0f",
    "execution_start": 1656306953473,
    "execution_millis": 449,
    "deepnote_cell_type": "code",
    "deepnote_cell_height": 310.328125
   },
   "source": "CLASSES = {'github' : 0, 'nytimes' : 1, 'techcrunch' : 2}\n\ntraindf['source'] = traindf['source'].apply(lambda x: CLASSES[x])\nevaldf['source'] = evaldf['source'].apply(lambda x: CLASSES[x])\nprint(traindf['source'].unique())\n\nytrain = keras.utils.to_categorical(traindf.pop('source').values)\nyvalid = keras.utils.to_categorical(evaldf.pop('source').values)\nprint(ytrain[0])\n\ntexts = list(traindf['title'])",
   "execution_count": null,
   "outputs": [
    {
     "name": "stdout",
     "text": "[0 1 2]\n[1. 0. 0.]\n",
     "output_type": "stream"
    }
   ]
  },
  {
   "cell_type": "code",
   "metadata": {
    "cell_id": "1609e06e2f8c4ac68fa9acc690ae8bc3",
    "tags": [],
    "deepnote_to_be_reexecuted": false,
    "source_hash": "e41bdf45",
    "execution_start": 1656306953522,
    "execution_millis": 445,
    "deepnote_cell_type": "code",
    "deepnote_cell_height": 438.125,
    "deepnote_output_heights": [
     null,
     253
    ]
   },
   "source": "tokens = [text.split(' ') for text in texts]\nseq_len = pd.Series([len(x) for x in tokens])\nseq_len.plot.box(vert=False)",
   "execution_count": null,
   "outputs": [
    {
     "output_type": "execute_result",
     "execution_count": 5,
     "data": {
      "text/plain": "<AxesSubplot:>"
     },
     "metadata": {}
    },
    {
     "data": {
      "text/plain": "<Figure size 432x288 with 1 Axes>",
      "image/png": "[encoded data removed]"
     },
     "metadata": {
      "needs_background": "light",
      "image/png": {
       "width": 390,
       "height": 251
      }
     },
     "output_type": "display_data"
    }
   ]
  },
  {
   "cell_type": "code",
   "metadata": {
    "cell_id": "9a651ddcc25d42559a64aad66add9458",
    "tags": [],
    "deepnote_to_be_reexecuted": false,
    "source_hash": "7226fea0",
    "execution_start": 1656306953990,
    "execution_millis": 6,
    "deepnote_cell_type": "code",
    "deepnote_cell_height": 115.671875
   },
   "source": "print(sorted(tokens, key=lambda x: len(x))[:25])",
   "execution_count": null,
   "outputs": [
    {
     "name": "stdout",
     "text": "[['rails-debate'], ['fpmltoolkit.net'], ['linuxexplorer'], ['cameroncode'], ['zsh-autosuggestions'], ['explosion.js'], ['om-autocomplete'], ['webpack-howto'], ['webtorrents'], ['awesome-advent'], ['google-places-api-java'], ['horse-hackernews'], ['autopolyfiller.js'], ['gitnodeploy'], ['react-motion'], ['s3concurrent'], ['hosts-google-facebook-twitter'], ['open-transactions'], ['underscore.string.js'], ['underscore.lua'], ['docco.coffee'], ['browserify-loader'], ['heroku.json'], ['comcastifyjs'], ['boycottopera.js']]\n",
     "output_type": "stream"
    }
   ]
  },
  {
   "cell_type": "code",
   "metadata": {
    "cell_id": "17371c172afd4ecbb577b80fd636ae64",
    "tags": [],
    "deepnote_to_be_reexecuted": false,
    "source_hash": "ee7a1075",
    "execution_start": 1656306954009,
    "execution_millis": 3,
    "deepnote_cell_type": "code",
    "deepnote_cell_height": 80.953125
   },
   "source": "texts = [text for (text, textlen) in zip(texts, [len(x) for x in texts]) if textlen > 1]",
   "execution_count": null,
   "outputs": []
  },
  {
   "cell_type": "markdown",
   "source": "We want to use only TOP_K words for classification to keep only informative text and be memory-efficient still. `Tokenizer` would still build the word-index for all words, but will only use TOP_K indexes during transformations.",
   "metadata": {
    "cell_id": "068a073c49c14aed802c61d541f666ca",
    "tags": [],
    "deepnote_cell_type": "markdown",
    "deepnote_cell_height": 74.765625
   }
  },
  {
   "cell_type": "code",
   "metadata": {
    "cell_id": "4f8c43c9c24d4c4193327b854515e44a",
    "tags": [],
    "deepnote_to_be_reexecuted": false,
    "source_hash": "7adf3b68",
    "execution_start": 1656306954021,
    "execution_millis": 2229,
    "deepnote_cell_type": "code",
    "deepnote_cell_height": 368.953125
   },
   "source": "TOP_K = 20000\n\ntokenizer = tf.keras.preprocessing.text.Tokenizer(\n    num_words=TOP_K,\n    filters='!\"#$%&()*+,-./:;<=>?@[\\\\]^_`{|}~\\t\\n',\n    lower=True,\n    split=' ',\n    char_level=False,\n    oov_token=None,\n    analyzer=None,\n)\n\ntokenizer.fit_on_texts(texts)\nXtrain = tokenizer.texts_to_sequences(texts)\nXvalid = tokenizer.texts_to_sequences(list(evaldf['title']))\n\nassert len(Xtrain) == traindf.shape[0]",
   "execution_count": null,
   "outputs": []
  },
  {
   "cell_type": "code",
   "metadata": {
    "cell_id": "5c26a75f63554cd49c2547c7db128986",
    "tags": [],
    "deepnote_to_be_reexecuted": false,
    "source_hash": "ffb34809",
    "execution_start": 1656306956257,
    "execution_millis": 461,
    "deepnote_cell_type": "code",
    "deepnote_cell_height": 183.125
   },
   "source": "sample = texts[:1]\nseq = tokenizer.texts_to_sequences(sample)\ntxt = tokenizer.sequences_to_texts(seq)\n\nprint(f\"{txt}:{seq}\")",
   "execution_count": null,
   "outputs": [
    {
     "name": "stdout",
     "text": "['this guy just found out how to bypass']:[[103, 1549, 122, 646, 72, 26, 3, 3704]]\n",
     "output_type": "stream"
    }
   ]
  },
  {
   "cell_type": "code",
   "metadata": {
    "cell_id": "48779ad57be742759984815b3687a786",
    "tags": [],
    "deepnote_to_be_reexecuted": false,
    "source_hash": "984bfc8",
    "execution_start": 1656306956302,
    "execution_millis": 213,
    "deepnote_cell_type": "code",
    "deepnote_cell_height": 332.96875
   },
   "source": "MAX_LEN = 20\n\nXtrain = tf.keras.preprocessing.sequence.pad_sequences(\n    sequences=Xtrain,\n    maxlen=MAX_LEN,\n    padding=\"pre\",\n    truncating=\"pre\")\n\nXvalid = tf.keras.preprocessing.sequence.pad_sequences(\n    sequences=Xvalid,\n    maxlen=MAX_LEN,\n    padding=\"pre\",\n    truncating=\"pre\")\n\nassert set([MAX_LEN]) == set([len(x) for x in Xtrain])",
   "execution_count": null,
   "outputs": []
  },
  {
   "cell_type": "markdown",
   "source": "### Load pre-trained (GloVe) embeddings",
   "metadata": {
    "formattedRanges": [],
    "cell_id": "f8ada508ed63466eb7aba5a0f0a3caf2",
    "tags": [],
    "is_collapsed": false,
    "deepnote_cell_type": "text-cell-h3"
   }
  },
  {
   "cell_type": "code",
   "metadata": {
    "cell_id": "29b9e4b192004a9b9769cbd80564007b",
    "tags": [],
    "deepnote_to_be_reexecuted": false,
    "source_hash": "f5210999",
    "execution_start": 1656306956519,
    "execution_millis": 16437,
    "deepnote_cell_type": "code",
    "deepnote_cell_height": 188.953125
   },
   "source": "embeddings_all = {}\nwith open('./data/glove.6B.200d.txt', 'r') as f:\n    for line in f:\n        values = line.split()\n        word = values[0]\n        coefs = np.asarray(values[1:], dtype='float32')\n        embeddings_all[word] = coefs",
   "execution_count": null,
   "outputs": []
  },
  {
   "cell_type": "code",
   "metadata": {
    "cell_id": "11ee8d05144e451ab32fa6e543119cb5",
    "tags": [],
    "deepnote_to_be_reexecuted": false,
    "source_hash": "b651bc23",
    "execution_start": 1656306972962,
    "execution_millis": 61,
    "deepnote_cell_type": "code",
    "deepnote_cell_height": 350.953125
   },
   "source": "# We only want embeddings for known words\nembedding_dim = 200\n\nnum_words = min(len(tokenizer.word_index) + 1, TOP_K)\nembedding_matrix = np.zeros((num_words, embedding_dim))\n\nfor word, i in tokenizer.word_index.items():\n    # Since the tokenizer already creates index based on word-frequency,\n    # we're sure to find most occuring words in TOP_K\n    if i >= TOP_K:\n        continue\n    embedding_vector = embeddings_all.get(word)\n    if embedding_vector is not None:\n        # words not found in embedding index will be all-zeros.\n        embedding_matrix[i] = embedding_vector\n",
   "execution_count": null,
   "outputs": []
  },
  {
   "cell_type": "markdown",
   "source": "## Model",
   "metadata": {
    "formattedRanges": [],
    "cell_id": "6f61d3cd849947bfb69d1e1413bfc7ce",
    "tags": [],
    "is_collapsed": false,
    "deepnote_cell_type": "text-cell-h2"
   }
  },
  {
   "cell_type": "code",
   "metadata": {
    "cell_id": "0f8c7b84f10c4578955a8e9e53f53e78",
    "tags": [],
    "deepnote_to_be_reexecuted": false,
    "source_hash": "c3885551",
    "execution_start": 1656306973025,
    "execution_millis": 71625,
    "owner_user_id": "d60818c3-2f78-44df-b56d-5e4dfd1c7847",
    "deepnote_cell_type": "code",
    "deepnote_cell_height": 1996.921875
   },
   "source": "%%time\nkeras.backend.clear_session()\n\nsave_model = True\nuse_pretrained_embedding = True\nis_embedding_trainable = False\nfilters = 64\ndropout_rate = 0.2\nkernel_size = 3\npool_size = 3\n\n\nmodel = keras.models.Sequential()\n\nmodel.add(keras.layers.InputLayer(input_shape=(MAX_LEN,)))\n\nif not use_pretrained_embedding:\n    model.add(keras.layers.Embedding(\n        input_dim=TOP_K,\n        output_dim=embedding_dim,\n        embeddings_initializer='uniform',\n    ))\nelse:\n    model.add(keras.layers.Embedding(\n        input_dim=TOP_K,\n        output_dim=embedding_dim,\n        input_length=MAX_LEN,\n        weights=[embedding_matrix],\n        trainable=is_embedding_trainable\n    ))\n\nmodel.add(keras.layers.Dropout(rate=dropout_rate))\nmodel.add(keras.layers.Conv1D(\n    filters=filters,\n    kernel_size=kernel_size,\n    activation=\"relu\",\n    padding=\"same\"\n))\n\nmodel.add(keras.layers.MaxPool1D(pool_size=pool_size))\nmodel.add(keras.layers.Conv1D(\n    filters=filters * 2,\n    kernel_size=kernel_size,\n    activation=\"relu\",\n    padding=\"same\"\n))\n\nmodel.add(keras.layers.GlobalAveragePooling1D())\nmodel.add(keras.layers.Dropout(rate=dropout_rate))\nmodel.add(keras.layers.Dense(units=len(CLASSES), activation=\"softmax\"))\n\nmodel.compile(\n    optimizer=\"adam\",\n    loss=\"categorical_crossentropy\",\n    metrics=[\"accuracy\",]\n)\n\nhistory = model.fit(\n    x=Xtrain,\n    y=ytrain,\n    batch_size=20000,\n    epochs=5,\n    verbose=1,\n    validation_data=(Xvalid, yvalid),\n    shuffle=True,\n)\n\nif save_model:\n    model.save('./model.tf')\n    with open('history.txt', 'w') as f:\n        f.write(json.dumps(history.history))\n\nmodel.summary()",
   "execution_count": null,
   "outputs": [
    {
     "name": "stdout",
     "text": "Epoch 1/5\n4/4 [==============================] - 14s 3s/step - loss: 1.0724 - accuracy: 0.4250 - val_loss: 1.0104 - val_accuracy: 0.5823\nEpoch 2/5\n4/4 [==============================] - 14s 3s/step - loss: 0.9772 - accuracy: 0.5978 - val_loss: 0.8984 - val_accuracy: 0.6748\nEpoch 3/5\n4/4 [==============================] - 15s 3s/step - loss: 0.8622 - accuracy: 0.6530 - val_loss: 0.7798 - val_accuracy: 0.7010\nEpoch 4/5\n4/4 [==============================] - 14s 3s/step - loss: 0.7582 - accuracy: 0.6858 - val_loss: 0.6991 - val_accuracy: 0.7137\nEpoch 5/5\n4/4 [==============================] - 14s 3s/step - loss: 0.6973 - accuracy: 0.7025 - val_loss: 0.6574 - val_accuracy: 0.7230\nWARNING:absl:Found untraced functions such as _jit_compiled_convolution_op, _jit_compiled_convolution_op while saving (showing 2 of 2). These functions will not be directly callable after loading.\nINFO:tensorflow:Assets written to: ./model.tf/assets\nINFO:tensorflow:Assets written to: ./model.tf/assets\nModel: \"sequential\"\n_________________________________________________________________\n Layer (type)                Output Shape              Param #   \n=================================================================\n embedding (Embedding)       (None, 20, 200)           4000000   \n                                                                 \n dropout (Dropout)           (None, 20, 200)           0         \n                                                                 \n conv1d (Conv1D)             (None, 20, 64)            38464     \n                                                                 \n max_pooling1d (MaxPooling1D  (None, 6, 64)            0         \n )                                                               \n                                                                 \n conv1d_1 (Conv1D)           (None, 6, 128)            24704     \n                                                                 \n global_average_pooling1d (G  (None, 128)              0         \n lobalAveragePooling1D)                                          \n                                                                 \n dropout_1 (Dropout)         (None, 128)               0         \n                                                                 \n dense (Dense)               (None, 3)                 387       \n                                                                 \n=================================================================\nTotal params: 4,063,555\nTrainable params: 63,555\nNon-trainable params: 4,000,000\n_________________________________________________________________\nCPU times: user 1min 24s, sys: 17.5 s, total: 1min 42s\nWall time: 1min 10s\n",
     "output_type": "stream"
    }
   ]
  },
  {
   "cell_type": "code",
   "metadata": {
    "cell_id": "89497a97b3474399904ae014a26e796c",
    "tags": [],
    "deepnote_to_be_reexecuted": false,
    "source_hash": "326ef35d",
    "execution_start": 1656307044033,
    "execution_millis": 635,
    "deepnote_cell_type": "code",
    "deepnote_cell_height": 403.921875,
    "deepnote_output_heights": [
     270.984375
    ]
   },
   "source": "plot_curves(history.history['loss'],\n            history.history['val_loss'],\n            label='Loss')",
   "execution_count": null,
   "outputs": [
    {
     "data": {
      "text/plain": "<Figure size 432x288 with 1 Axes>",
      "image/png": "[encoded data removed]"
     },
     "metadata": {
      "needs_background": "light",
      "image/png": {
       "width": 393,
       "height": 269
      }
     },
     "output_type": "display_data"
    }
   ]
  },
  {
   "cell_type": "code",
   "metadata": {
    "cell_id": "4ea6d8d453de4da7a22c6ba442433910",
    "tags": [],
    "deepnote_to_be_reexecuted": false,
    "source_hash": "dac806a6",
    "execution_start": 1656307044200,
    "execution_millis": 486,
    "deepnote_cell_type": "code",
    "deepnote_cell_height": 403.921875,
    "deepnote_output_heights": [
     270.984375
    ]
   },
   "source": "plot_curves(history.history['accuracy'],\n            history.history['accuracy'],\n            label='Accuracy')",
   "execution_count": null,
   "outputs": [
    {
     "data": {
      "text/plain": "<Figure size 432x288 with 1 Axes>",
      "image/png": "[encoded data removed]"
     },
     "metadata": {
      "needs_background": "light",
      "image/png": {
       "width": 400,
       "height": 269
      }
     },
     "output_type": "display_data"
    }
   ]
  },
  {
   "cell_type": "code",
   "metadata": {
    "cell_id": "badd57b9135d45e89088a908683b3518",
    "tags": [],
    "deepnote_to_be_reexecuted": false,
    "source_hash": "fafe5f19",
    "execution_start": 1656307044389,
    "execution_millis": 3442,
    "deepnote_cell_type": "code",
    "deepnote_cell_height": 394.375
   },
   "source": "from sklearn.metrics import classification_report\n\ny_pred = model.predict(Xvalid)\none_hot_pred = keras.utils.to_categorical(np.argmax(y_pred, axis=1))\nprint(classification_report(yvalid, one_hot_pred))",
   "execution_count": null,
   "outputs": [
    {
     "name": "stdout",
     "text": "752/752 [==============================] - 2s 2ms/step\n              precision    recall  f1-score   support\n\n           0       0.83      0.85      0.84      9080\n           1       0.62      0.68      0.65      7201\n           2       0.70      0.61      0.65      7760\n\n   micro avg       0.72      0.72      0.72     24041\n   macro avg       0.72      0.71      0.71     24041\nweighted avg       0.72      0.72      0.72     24041\n samples avg       0.72      0.72      0.72     24041\n\n",
     "output_type": "stream"
    }
   ]
  },
  {
   "cell_type": "code",
   "metadata": {
    "cell_id": "7d28b5ce852948c49ad8b046412a6bc6",
    "tags": [],
    "deepnote_to_be_reexecuted": false,
    "source_hash": "c84f3a73",
    "execution_start": 1656307047837,
    "execution_millis": 71,
    "deepnote_cell_type": "code",
    "deepnote_cell_height": 480.765625
   },
   "source": "from sklearn.metrics import confusion_matrix\n\nlabels = list(CLASSES)\nconf_mat_dict={}\n\nfor label_col in range(len(labels)):\n    y_true_label = yvalid[:, label_col]\n    y_pred_label = one_hot_pred[:, label_col]\n    conf_mat_dict[labels[label_col]] = confusion_matrix(y_pred=y_pred_label, y_true=y_true_label)\n\nfor label, matrix in conf_mat_dict.items():\n    print(\"Confusion matrix for label {}:\".format(label))\n    print(matrix)",
   "execution_count": null,
   "outputs": [
    {
     "name": "stdout",
     "text": "Confusion matrix for label github:\n[[13330  1631]\n [ 1354  7726]]\nConfusion matrix for label nytimes:\n[[13835  3005]\n [ 2306  4895]]\nConfusion matrix for label techcrunch:\n[[14258  2023]\n [ 2999  4761]]\n",
     "output_type": "stream"
    }
   ]
  },
  {
   "cell_type": "code",
   "metadata": {
    "cell_id": "c03ed74fb7fe45d28c38c13936f34781",
    "tags": [],
    "deepnote_to_be_reexecuted": false,
    "source_hash": "b623e53d",
    "execution_start": 1656307047911,
    "execution_millis": 1,
    "deepnote_cell_type": "code",
    "deepnote_cell_height": 80.953125
   },
   "source": "",
   "execution_count": null,
   "outputs": []
  },
  {
   "cell_type": "code",
   "metadata": {
    "cell_id": "78562375966c4bf3b6514f71bf0a4c63",
    "tags": [],
    "deepnote_to_be_reexecuted": false,
    "source_hash": "b623e53d",
    "execution_start": 1656307047917,
    "execution_millis": 42478417,
    "deepnote_cell_type": "code",
    "deepnote_cell_height": 80.953125
   },
   "source": "",
   "execution_count": null,
   "outputs": []
  },
  {
   "cell_type": "code",
   "metadata": {
    "cell_id": "fdab648a680343b8a269f67d4556d841",
    "tags": [],
    "deepnote_to_be_reexecuted": false,
    "source_hash": "b623e53d",
    "execution_start": 1656307047961,
    "execution_millis": 1,
    "deepnote_cell_type": "code",
    "deepnote_cell_height": 80.953125
   },
   "source": "",
   "execution_count": null,
   "outputs": []
  },
  {
   "cell_type": "markdown",
   "source": "<a style='text-decoration:none;line-height:16px;display:flex;color:#5B5B62;padding:10px;justify-content:end;' href='https://deepnote.com?utm_source=created-in-deepnote-cell&projectId=46e3e238-14db-4736-bba3-428176481d68' target=\"_blank\">\n<img alt='Created in deepnote.com' style='display:inline;max-height:16px;margin:0px;margin-right:7.5px;' src='data:image/svg+xml;base64,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' > </img>\nCreated in <span style='font-weight:600;margin-left:4px;'>Deepnote</span></a>",
   "metadata": {
    "tags": [],
    "created_in_deepnote_cell": true,
    "deepnote_cell_type": "markdown"
   }
  }
 ],
 "nbformat": 4,
 "nbformat_minor": 2,
 "metadata": {
  "orig_nbformat": 2,
  "deepnote": {},
  "deepnote_notebook_id": "4b13ee4f-a8f7-4afc-ac82-6c29d234e678",
  "deepnote_execution_queue": []
 }
}